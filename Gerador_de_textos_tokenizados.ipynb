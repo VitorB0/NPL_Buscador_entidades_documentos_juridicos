{
  "nbformat": 4,
  "nbformat_minor": 0,
  "metadata": {
    "colab": {
      "provenance": []
    },
    "kernelspec": {
      "name": "python3",
      "display_name": "Python 3"
    },
    "language_info": {
      "name": "python"
    }
  },
  "cells": [
    {
      "cell_type": "markdown",
      "source": [
        "# Tokenizando os dados"
      ],
      "metadata": {
        "id": "mdPtng7QyMJ4"
      }
    },
    {
      "cell_type": "code",
      "source": [
        "import zipfile\n",
        "import pandas as pd\n",
        "\n",
        "dados = []\n",
        "\n",
        "with zipfile.ZipFile('/content/texts.zip') as zip:\n",
        "    for nome_arquivo in zip.namelist():\n",
        "        with zip.open(nome_arquivo) as arquivo:\n",
        "            conteudo = arquivo.read().decode('utf-8')\n",
        "            palavras = conteudo.split()\n",
        "            for palavra in palavras:\n",
        "                dados.append([nome_arquivo, palavra])\n",
        "\n",
        "tabela_palavras = pd.DataFrame(dados, columns = ['arquivo', 'palavra'])"
      ],
      "metadata": {
        "id": "NQqvtNTd0x3s"
      },
      "execution_count": null,
      "outputs": []
    },
    {
      "cell_type": "code",
      "source": [
        "tabela_palavras"
      ],
      "metadata": {
        "id": "apAWgVRx0xy2"
      },
      "execution_count": null,
      "outputs": []
    },
    {
      "cell_type": "code",
      "source": [
        "tabela_palavras.to_csv('palavras.csv', index = False, sep = '\\t')"
      ],
      "metadata": {
        "id": "3wP5xo5A0xsm"
      },
      "execution_count": null,
      "outputs": []
    },
    {
      "cell_type": "markdown",
      "source": [
        "## Rotulando os dados no formato IOB"
      ],
      "metadata": {
        "id": "2k2n_RJOylJ5"
      }
    },
    {
      "cell_type": "markdown",
      "source": [
        "Agora é necessário rotular as palavras do arquivo `palavras.csv` no formato IOB manualmente\n",
        "\n",
        "O formato BIO/IOB ,abreviação de inside, outside, beginning, é um formato de marcação comum para marcar tokens em uma tarefa de agrupamento em linguística computacional (por exemplo, reconhecimento de entidade nomeada).\n",
        "\n",
        "- O prefixo B antes de uma tag indica que a tag é o início de um pedaço\n",
        "- O prefixo I antes de uma tag indica que a tag está dentro de um pedaço.\n",
        "- O prefixo O indica que um token não pertence a nenhuma entidade/pedaço.\n",
        "\n",
        "Exemplo:\n",
        "\n",
        "\n",
        "| **palavra** |     **label** |\n",
        "|------------:|--------------:|\n",
        "|     ACORDAO |             O |\n",
        "|    CONSELHO | B-ORGANIZACAO |\n",
        "|    ESPECIAL | I-ORGANIZACAO |\n",
        "|          DF |       B-LOCAL |\n"
      ],
      "metadata": {
        "id": "qWk-PU5Qczeh"
      }
    },
    {
      "cell_type": "code",
      "source": [],
      "metadata": {
        "id": "2qnrCaHKrOJS"
      },
      "execution_count": null,
      "outputs": []
    }
  ]
}